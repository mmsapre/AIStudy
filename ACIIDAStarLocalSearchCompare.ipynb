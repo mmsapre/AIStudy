{
 "cells": [
  {
   "cell_type": "markdown",
   "metadata": {
    "id": "H9GUkMwzFyub"
   },
   "source": [
    "# Artificial and Computational Intelligence Assignment 1"
   ]
  },
  {
   "cell_type": "markdown",
   "metadata": {
    "id": "f-GjrEkrFyuc"
   },
   "source": [
    "## Problem solving by Informed Search and/or Local Search"
   ]
  },
  {
   "cell_type": "markdown",
   "metadata": {
    "id": "Y8SauNckFyud"
   },
   "source": [
    "### 1.\tDefine the environment in the following block"
   ]
  },
  {
   "cell_type": "markdown",
   "metadata": {
    "id": "xTAkkRECFyud"
   },
   "source": [
    "1. Performance Measure:  Cost of the optimal path that the robot takes to reach the finish position.\n",
    "2. Environment: Maze. \n",
    "3. Actuator:  Robot's ability to move in four different directions: East, West, North, and South. \n",
    "4. Sensor: Robot's vision sensor, which is sensitive to the exposure to sunlight.\n",
    "### Note- Detailed explanation on PEAS is described in the document file."
   ]
  },
  {
   "cell_type": "markdown",
   "metadata": {
    "id": "57ocILq2Fyud"
   },
   "source": [
    "### Design the agent as PSA Agent(Problem Solving Agent) Clear Initial data structures to define the graph and variable declarations is expected "
   ]
  },
  {
   "cell_type": "code",
   "execution_count": 1,
   "metadata": {
    "id": "2MAHnXD1Fyud"
   },
   "outputs": [],
   "source": [
    "import math\n",
    "import heapq as heapq\n",
    "\n",
    "# Directions movement\n",
    "\n",
    "space_complexity_counters = 0\n",
    "size_counter = 0 \n",
    "\n",
    "parentSet = {}\n",
    "\n",
    "class MazeGrid:\n",
    "    def __init__(self , gridmap):\n",
    "        self.x = 6\n",
    "        self.y = 7\n",
    "        self.start = (4,1)\n",
    "        self.finish = (4, 7)\n",
    "        self.maps = gridmap\n",
    "        self.directions=[]\n",
    "        self.directions_costs = {}\n",
    "        self.hillCost= {}\n",
    "\n",
    "    def set_start(self, start):\n",
    "        self.start = start\n",
    "\n",
    "    def get_start(self):\n",
    "        return self.start\n",
    "\n",
    "    def set_finish(self, finish):\n",
    "        self.finish = finish\n",
    "\n",
    "    def get_finish(self):\n",
    "        return self.finish\n"
   ]
  },
  {
   "cell_type": "code",
   "execution_count": 2,
   "metadata": {
    "id": "3DzivjiGFyue"
   },
   "outputs": [],
   "source": [
    "# Maze state \n",
    "\n",
    "maze_dict = {(1, 1): {'E': 1, 'W': 0, 'N': 0, 'S': 1},\n",
    "  (2, 1): {'E': 0, 'W': 0, 'N': 1, 'S': 1},\n",
    "  (3, 1): {'E': 0, 'W': 0, 'N': 1, 'S': 0},\n",
    "  (4, 1): {'E': 1, 'W': 0, 'N': 0, 'S': 1},\n",
    "  (5, 1): {'E': 0, 'W': 0, 'N': 1, 'S': 1},\n",
    "  (6, 1): {'E': 1, 'W': 0, 'N': 1, 'S': 0},\n",
    "  (1, 2): {'E': 1, 'W': 1, 'N': 0, 'S': 1},\n",
    "  (2, 2): {'E': 0, 'W': 0, 'N': 1, 'S': 1},\n",
    "  (3, 2): {'E': 0, 'W': 0, 'N': 1, 'S': 1},\n",
    "  (4, 2): {'E': 0, 'W': 1, 'N': 1, 'S': 0},\n",
    "  (5, 2): {'E': 1, 'W': 0, 'N': 0, 'S': 0},\n",
    "  (6, 2): {'E': 1, 'W': 1, 'N': 0, 'S': 0},\n",
    "  (1, 3): {'E': 0, 'W': 1, 'N': 0, 'S': 1},\n",
    "  (2, 3): {'E': 0, 'W': 0, 'N': 1, 'S': 1},\n",
    "  (3, 3): {'E': 0, 'W': 0, 'N': 1, 'S': 1},\n",
    "  (4, 3): {'E': 0, 'W': 0, 'N': 1, 'S': 1},\n",
    "  (5, 3): {'E': 1, 'W': 1, 'N': 1, 'S': 0},\n",
    "  (6, 3): {'E': 1, 'W': 1, 'N': 0, 'S': 0},\n",
    "  (1, 4): {'E': 1, 'W': 0, 'N': 0, 'S': 1},\n",
    "  (2, 4): {'E': 0, 'W': 0, 'N': 1, 'S': 1},\n",
    "  (3, 4): {'E': 0, 'W': 0, 'N': 1, 'S': 1},\n",
    "  (4, 4): {'E': 0, 'W': 0, 'N': 1, 'S': 1},\n",
    "  (5, 4): {'E': 0, 'W': 1, 'N': 1, 'S': 0},\n",
    "  (6, 4): {'E': 1, 'W': 1, 'N': 0, 'S': 0},\n",
    "  (1, 5): {'E': 0, 'W': 1, 'N': 0, 'S': 1},\n",
    "  (2, 5): {'E': 0, 'W': 0, 'N': 1, 'S': 1},\n",
    "  (3, 5): {'E': 0, 'W': 0, 'N': 1, 'S': 1},\n",
    "  (4, 5): {'E': 0, 'W': 0, 'N': 1, 'S': 1},\n",
    "  (5, 5): {'E': 1, 'W': 0, 'N': 1, 'S': 0},\n",
    "  (6, 5): {'E': 1, 'W': 1, 'N': 0, 'S': 0},\n",
    "  (1, 6): {'E': 1, 'W': 0, 'N': 0, 'S': 1},\n",
    "  (2, 6): {'E': 0, 'W': 0, 'N': 1, 'S': 1},\n",
    "  (3, 6): {'E': 0, 'W': 0, 'N': 1, 'S': 1},\n",
    "  (4, 6): {'E': 0, 'W': 0, 'N': 1, 'S': 1},\n",
    "  (5, 6): {'E': 0, 'W': 1, 'N': 1, 'S': 0},\n",
    "  (6, 6): {'E': 1, 'W': 1, 'N': 0, 'S': 0},\n",
    "  (1, 7): {'E': 0, 'W': 1, 'N': 0, 'S': 1},\n",
    "  (2, 7): {'E': 0, 'W': 0, 'N': 1, 'S': 1},\n",
    "  (3, 7): {'E': 0, 'W': 0, 'N': 1, 'S': 1},\n",
    "  (4, 7): {'E': 0, 'W': 0, 'N': 1, 'S': 1},\n",
    "  (5, 7): {'E': 0, 'W': 0, 'N': 1, 'S': 1},\n",
    "  (6, 7): {'E': 0, 'W': 1, 'N': 1, 'S': 0}}\n",
    "\n",
    "\n",
    "mazegrid = MazeGrid(gridmap=maze_dict)\n",
    "mazegrid.directions = ['N', 'E', 'S', 'W']\n",
    "\n",
    "# Movement costs\n",
    "mazegrid.direction_costs = {'N': 3, 'E': 8, 'S': 3, 'W': 3}"
   ]
  },
  {
   "cell_type": "code",
   "execution_count": 3,
   "metadata": {
    "id": "X0dhW7_LFyue"
   },
   "outputs": [],
   "source": [
    "# Find the optimal path using hill climbing algorithm\n",
    "def find_path(mazegrid1, current,hill_climb_cost):\n",
    "    \n",
    "    # global size_counter\n",
    "    \n",
    "    global space_complexity_counters\n",
    "    \n",
    "    if hill_climb_cost != None:\n",
    "        nowVal = mazegrid1.get_start()\n",
    "        start = current\n",
    "        directionalFinalPath=[mazegrid1.get_finish()]\n",
    "        if nowVal is start:\n",
    "            directionalFinalPath.append(nowVal)\n",
    "        else:\n",
    "            while nowVal is not start:\n",
    "                # Space complexity counter calculations\n",
    "                space_complexity_counters = space_complexity_counters + 1\n",
    "                val = parentSet[nowVal]\n",
    "                nowVal=val\n",
    "                directionalFinalPath.append(nowVal)\n",
    "        directionalFinalPath = directionalFinalPath[::-1]\n",
    "        \n",
    "        return directionalFinalPath\n",
    "    return None\n",
    "\n",
    "# IDA*\n",
    "def find_indices(list_check, value_check):\n",
    "    \"\"\" Function will return only those indices where value is 1, which indicates path in the maze.    \"\"\"\n",
    "    return [idx for idx, value in enumerate(list_check) if value == value_check]\n",
    "\n",
    "def get_next_moves(mazemap,cell):\n",
    "    \"\"\" Function will return next possible moves for a cell in the maze.\"\"\"\n",
    "    x,y = cell \n",
    "     # Calculation of cell values \n",
    "    moves = [(x, y+1), (x, y-1), (x-1, y), (x+1, y)]\n",
    "    coordinate_val = list(mazemap[cell].values())\n",
    "    get_ind_1 = find_indices(coordinate_val,1)\n",
    "    \n",
    "    # Get the next possible moves from a current cell\n",
    "    moves = [moves[i] for i in get_ind_1]\n",
    "    return moves"
   ]
  },
  {
   "cell_type": "code",
   "execution_count": 4,
   "metadata": {
    "id": "zImA1VT4Fyue"
   },
   "outputs": [],
   "source": [
    "# Manhattan distance as Heuristic\n",
    "def manhattan_dis(pos1, pos2):\n",
    "    x1, y1 = pos1\n",
    "    x2, y2 = pos2\n",
    "    return abs(x1 - x2) + abs(y1 - y2)\n",
    "\n",
    "def goal_position_check(mazegrid3,goal):\n",
    "    \"\"\" Function will return 1 if goal cell is found in maze else will return 0\"\"\"\n",
    "    if goal in mazegrid3.maps:\n",
    "        return 1\n",
    "    else :\n",
    "        return 0\n",
    "\n",
    "def goal_reach(mazegrid,current):\n",
    "     if mazegrid.finish in current:\n",
    "        path.append(mazegrid.finish)\n",
    "        cost.append(current[mazegrid.finish])\n",
    "        return 'Success'"
   ]
  },
  {
   "cell_type": "markdown",
   "metadata": {
    "id": "Dv_aI84TFyue"
   },
   "source": [
    "### 2.\tDefinition of Algorithm 1 (Informed Search- Iterative Deepening A* Algorithm)"
   ]
  },
  {
   "cell_type": "code",
   "execution_count": 5,
   "metadata": {
    "id": "SQWEw6mUFyue"
   },
   "outputs": [],
   "source": [
    "def ida_algorithm (mazegrid2,mazemap,cell,threshold,g,path):\n",
    "    \n",
    "    global space_complexity_counters\n",
    "    \n",
    "    \"\"\" IDA* algorithm implemented will return Success if optimal path to the given goal is present in maze.\"\"\"\n",
    "    \n",
    "    x,y = cell\n",
    "    \n",
    "    # Get the next possible moves from a current cell\n",
    "    moves = get_next_moves(mazemap,cell)\n",
    "\n",
    "    # Calculation of g(n) and h(n)\n",
    "    # f(n) = g(n) + h(n) + 5 + 3 if direction east else\n",
    "    # f(n) = g(n) + h(n) + 3\n",
    "    next_g = g+1\n",
    "    # Space complexity counter calculations\n",
    "    space_complexity_counters = space_complexity_counters + len(moves)\n",
    "\n",
    "    f_score_next_cell = [ 8 + manhattan_dis(move,mazegrid2.finish) + next_g if move == (x,y+1) else  3 + manhattan_dis(move,mazegrid2.finish) + next_g  for move in moves]\n",
    "\n",
    "    # Valid moves : Calculated based on threshold\n",
    "    # Move is valid if fscore < threshold\n",
    "\n",
    "    # Space complexity counter calculations\n",
    "    space_complexity_counters = space_complexity_counters + len(moves)\n",
    "    \n",
    "    valid_moves = { move:score for move,score in zip(moves,f_score_next_cell) if score <= threshold }\n",
    "\n",
    "\n",
    "    # Check if goal state position is same as start\n",
    "    if mazegrid2.start==mazegrid2.finish:\n",
    "        return 'Success'\n",
    "\n",
    "    # Check if given goal state is in the valid set of moves\n",
    "    test_result = goal_reach(mazegrid2,valid_moves)\n",
    "    if test_result == 'Success':\n",
    "        return test_result\n",
    "    \n",
    "    # If no valid moves , update threshold with the next minimum value\n",
    "    if valid_moves == {}:\n",
    "        if threshold < min(f_score_next_cell):\n",
    "            threshold = min(f_score_next_cell)\n",
    "        else:\n",
    "            threshold = math.inf\n",
    "        return  threshold\n",
    "\n",
    "    # Call ida star algorithm again if there are valid moves\n",
    "    if valid_moves != {}:\n",
    "\n",
    "            for move in valid_moves:\n",
    "\n",
    "                path.append(move)\n",
    "                cost.append(valid_moves[move])\n",
    "\n",
    "                tmin = ida_algorithm(mazegrid2,mazemap,move,threshold,next_g,path)\n",
    "\n",
    "                if tmin == 'Success':\n",
    "                    return 'Success'\n",
    "                    exit()\n",
    "\n",
    "                path.pop()\n",
    "                cost.pop()\n",
    "            return tmin"
   ]
  },
  {
   "cell_type": "markdown",
   "metadata": {
    "id": "mDrjkf6MFyuf"
   },
   "source": [
    "### 3.\tDefinition of Algorithm 2 (Local Search- Hill Climbing Algorithm) "
   ]
  },
  {
   "cell_type": "code",
   "execution_count": 6,
   "metadata": {
    "id": "MUj31mstFyuf"
   },
   "outputs": [],
   "source": [
    "# Hill Climbing Algorithm for finding Optimal Path with cost\n",
    "def hill_climbing(mazegrid2):\n",
    "    \n",
    "    global space_complexity_counters\n",
    "    \n",
    "    if(goal_position_check(mazegrid2,mazegrid2.start) == 1 & goal_position_check(mazegrid2,mazegrid2.finish) == 1):\n",
    "        hill_climb_heap = [(manhattan_dis(mazegrid2.get_start(), mazegrid2.get_finish()), mazegrid2.start)]\n",
    "        mazegrid2.hillCost[mazegrid2.get_start()]= manhattan_dis(mazegrid2.get_start(), mazegrid2.get_finish())\n",
    "        visited = set()\n",
    "        while hill_climb_heap:\n",
    "            \n",
    "            # Space complexity counter calculations\n",
    "            space_complexity_counters = space_complexity_counters + 1\n",
    "\n",
    "            (hill_climb_cost, current) = heapq.heappop(hill_climb_heap)\n",
    "            if current in visited:\n",
    "                continue\n",
    "\n",
    "            visited.add(current)\n",
    "\n",
    "            if current == mazegrid2.finish:\n",
    "                return hill_climb_cost\n",
    "\n",
    "            for direction in mazegrid2.directions:\n",
    "                \n",
    "                # Space complexity counter calculations\n",
    "                space_complexity_counters = space_complexity_counters + 1\n",
    "                \n",
    "                x, y = current\n",
    "                if mazegrid2.maps[(x,y)][direction] == 1:\n",
    "                    if direction == 'N':\n",
    "                        x -= 1\n",
    "                    elif direction == 'E':\n",
    "                        y += 1\n",
    "                    elif direction == 'S':\n",
    "                        x += 1\n",
    "                    elif direction == 'W':\n",
    "                        y -= 1\n",
    "\n",
    "                    if (x,y) in mazegrid2.maps:\n",
    "                        if x > 0 and x <= mazegrid2.x and y > 0 and y <= mazegrid2.y and (x,y) not in visited:\n",
    "                            next_cell_cost= mazegrid2.direction_costs[direction] + manhattan_dis((x, y), mazegrid2.get_finish())\n",
    "                            new_cost = hill_climb_cost + next_cell_cost\n",
    "                            if mazegrid2.hillCost[current] >= next_cell_cost:\n",
    "                                parentSet[(x, y)] = current\n",
    "                                mazegrid2.hillCost[(x, y)] = next_cell_cost\n",
    "                                heapq.heappush(hill_climb_heap, (new_cost, (x, y)))\n",
    "        return None\n"
   ]
  },
  {
   "cell_type": "markdown",
   "metadata": {
    "id": "Yby5rPLMFyuf"
   },
   "source": [
    "### DYNAMIC INPUT"
   ]
  },
  {
   "cell_type": "markdown",
   "metadata": {
    "id": "DCCXQ0owFyuf"
   },
   "source": [
    "IMPORTANT : Dynamic Input must be got in this section. Display the possible states to choose from:\n",
    "This is applicable for all the relevent problems as mentioned in the question. "
   ]
  },
  {
   "cell_type": "code",
   "execution_count": 7,
   "metadata": {
    "id": "beAnddJKFyuf"
   },
   "outputs": [
    {
     "name": "stdout",
     "output_type": "stream",
     "text": [
      "Using starting point : (4, 1)\n",
      "Using finishing point : (4, 7)\n"
     ]
    }
   ],
   "source": [
    "# maze start and finish positions for the given 6x7 maze configuration\n",
    "# Valid Inputs between: (1,1) to (6,7)\n",
    "instart = (4,1)\n",
    "infinish = (4,7)\n",
    "if len(instart) < 2 or len(instart) > 2:\n",
    "    print(\"Invalid input values.\")\n",
    "\n",
    "if len(infinish) < 2 or len(infinish) > 2:\n",
    "    print(\"Invalid input values.\")\n",
    "try:\n",
    "    (startX,startY) = instart\n",
    "    (finishX,finishY) = infinish\n",
    "\n",
    "    if (1 <= startX <= mazegrid.x) & (1 <= startY <= mazegrid.y):\n",
    "        mazegrid.set_start(instart)\n",
    "        print(\"Using starting point :\",mazegrid.get_start())\n",
    "    else:\n",
    "        print('Error start value must be in range: 1-7. Hence using initial values.',mazegrid.get_start())\n",
    "\n",
    "\n",
    "    if (1 <= finishX <= mazegrid.x) & (1 <= finishY <= mazegrid.y):\n",
    "        mazegrid.set_finish(infinish)\n",
    "        print(\"Using finishing point :\",mazegrid.get_finish())\n",
    "    else:\n",
    "        print('Error finish values must be in range: 1-7. Hence using initial values.',mazegrid.get_finish())\n",
    "\n",
    "except Exception as e:\n",
    "    print(\"Invalid input values.\",e)"
   ]
  },
  {
   "cell_type": "markdown",
   "metadata": {
    "id": "bqVEUFRoFyuf"
   },
   "source": [
    "### 4.\tCalling the search algorithms"
   ]
  },
  {
   "cell_type": "code",
   "execution_count": 8,
   "metadata": {
    "id": "y9CAb9j8Fyuf"
   },
   "outputs": [
    {
     "name": "stdout",
     "output_type": "stream",
     "text": [
      "size counter 11\n",
      "Goal found!!, optimum path taken with cost for each node in path is:\n",
      " {(4, 1): 6, (5, 1): 11, (6, 1): 13, (6, 2): 18, (6, 3): 18, (6, 4): 18, (6, 5): 18, (6, 6): 18, (6, 7): 18, (5, 7): 13, (4, 7): 13}\n",
      "Total path cost =  164\n"
     ]
    }
   ],
   "source": [
    "# Calling the IDA* Algorithm for finding Optimal Path with cost\n",
    "goal_check_res = goal_position_check(mazegrid, mazegrid.finish)\n",
    "state = True\n",
    "\n",
    "# Calculate initial threshold for ida* algorithm and initialize the cost and path\n",
    "threshold = manhattan_dis(mazegrid.start,mazegrid.finish)\n",
    "cost = [threshold]\n",
    "path = [mazegrid.start]\n",
    "\n",
    "if goal_check_res == 1:\n",
    "    while state:\n",
    "        \n",
    "        space_complexity_counters = space_complexity_counters + 1\n",
    "        \n",
    "        t = ida_algorithm(mazegrid,mazegrid.maps,mazegrid.start,threshold,0,path)\n",
    "        if t!= 'Success':\n",
    "            threshold = t\n",
    "        if t == 'Success':\n",
    "            size_counter = size_counter + len(path) # * sys.size(hill_climb_path)\n",
    "            print(f\"size counter {size_counter}\")\n",
    "            print('Goal found!!, optimum path taken with cost for each node in path is:\\n',{i:j for i,j in zip(path,cost)})\n",
    "            print('Total path cost = ',sum(cost))\n",
    "            state = False\n",
    "        if t == math.inf:\n",
    "            print('No solution.')\n",
    "            state = False\n",
    "else:\n",
    "    print('Goal state not in maze, hence no solution.')"
   ]
  },
  {
   "cell_type": "code",
   "execution_count": 9,
   "metadata": {
    "id": "0CI64HFVFyug"
   },
   "outputs": [
    {
     "name": "stdout",
     "output_type": "stream",
     "text": [
      "No path found and hence cost cannot be estimated.\n"
     ]
    }
   ],
   "source": [
    "# Calling the Hill Climbing Algorithm for finding Optimal Path with cost\n",
    "hill_climb_cost = hill_climbing(mazegrid)\n",
    "\n",
    "hill_climb_path = find_path(mazegrid, mazegrid.start,hill_climb_cost);\n",
    "\n",
    "if hill_climb_path:\n",
    "    size_counter = size_counter + len(hill_climb_path) # * sys.size(hill_climb_path)\n",
    "\n",
    "if hill_climb_cost is None:\n",
    "    print('No path found and hence cost cannot be estimated.')\n",
    "else:\n",
    "    print('Goal found!!, Optimal path for Hill Climbing Algorithm: \\n',hill_climb_path)\n",
    "    print('Optimal path found with cost:', hill_climb_cost)\n"
   ]
  },
  {
   "cell_type": "markdown",
   "metadata": {
    "id": "pPN1mgOSFyug"
   },
   "source": [
    "### 5.\tComparitive Analysis"
   ]
  },
  {
   "cell_type": "code",
   "execution_count": 10,
   "metadata": {
    "id": "EwBYRVQHFyug"
   },
   "outputs": [
    {
     "name": "stdout",
     "output_type": "stream",
     "text": [
      "Total Space Complexity for IDA* Algorithm : 11\n",
      "Total Time Complexity for IDA* Algorithm  : 3933\n"
     ]
    }
   ],
   "source": [
    "#Code Block : Print the Time & Space complexity of algorithm 1 \n",
    "\n",
    "print(f\"Total Space Complexity for IDA* Algorithm : {size_counter}\")\n",
    "print(f\"Total Time Complexity for IDA* Algorithm  : {space_complexity_counters}\")\n"
   ]
  },
  {
   "cell_type": "markdown",
   "metadata": {},
   "source": [
    "The below graph contains the Time and Space Cost used by both the algorithms running in the sequential pattern.\n",
    "From below figures, we can conclude that after executing multiples entry and exit inputs, we get maximum Time and Space Cost for entry (4,1) and exit (4,7) [Fig-3] as compared other entry and exit inputs. "
   ]
  },
  {
   "attachments": {
    "Profile_2_4-1_4-1.png": {
     "image/png": "[encoded data removed]"
    }
   },
   "cell_type": "markdown",
   "metadata": {},
   "source": [
    "![Profile_2_4-1_4-1.png](attachment:Profile_2_4-1_4-1.png)"
   ]
  },
  {
   "cell_type": "markdown",
   "metadata": {},
   "source": [
    "            Fig-1:Entry (4,1) and Exit (4,1)"
   ]
  },
  {
   "attachments": {
    "Profile_2_4-1_6-7.png": {
     "image/png": "[encoded data removed]"
    }
   },
   "cell_type": "markdown",
   "metadata": {},
   "source": [
    "![Profile_2_4-1_6-7.png](attachment:Profile_2_4-1_6-7.png)"
   ]
  },
  {
   "cell_type": "markdown",
   "metadata": {},
   "source": [
    "            Fig-2:Entry (4,1) and Exit (6,7)"
   ]
  },
  {
   "attachments": {
    "Profile_2_4-1_4-7.png": {
     "image/png": "[encoded data removed]"
    }
   },
   "cell_type": "markdown",
   "metadata": {},
   "source": [
    "![Profile_2_4-1_4-7.png](attachment:Profile_2_4-1_4-7.png)"
   ]
  },
  {
   "cell_type": "markdown",
   "metadata": {},
   "source": [
    "            Fig-3:Entry (4,1) and Exit (4,7)"
   ]
  },
  {
   "cell_type": "markdown",
   "metadata": {
    "id": "bw-wFCQRFyug"
   },
   "source": [
    "### 6.\tProvide your comparitive analysis or findings in no more than 3 lines in below section"
   ]
  },
  {
   "cell_type": "markdown",
   "metadata": {
    "id": "8XbDn1pgFyug"
   },
   "source": [
    "Comparison : For the give problem statement, IDA* Algorithm performs better the Hill climbing Algorithm because of the following points: \n",
    "1. We are able to get the optimum path with cost for IDA*. \n",
    "2. Optimum path for Hill climbing algorithm can't be found for the given maze since its neighbour cell always have higher value as compared to the current cell value hence it will be stuck there and will not be able to move forwards towards the goal.\n",
    "_______________________________________________________________________________________________________________________________"
   ]
  },
  {
   "cell_type": "code",
   "execution_count": 10,
   "metadata": {},
   "outputs": [],
   "source": []
  }
 ],
 "metadata": {
  "colab": {
   "provenance": []
  },
  "kernelspec": {
   "display_name": "Python 3 (ipykernel)",
   "language": "python",
   "name": "python3"
  },
  "language_info": {
   "codemirror_mode": {
    "name": "ipython",
    "version": 3
   },
   "file_extension": ".py",
   "mimetype": "text/x-python",
   "name": "python",
   "nbconvert_exporter": "python",
   "pygments_lexer": "ipython3",
   "version": "3.9.12"
  }
 },
 "nbformat": 4,
 "nbformat_minor": 1
}